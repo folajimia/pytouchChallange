{
 "cells": [
  {
   "cell_type": "markdown",
   "metadata": {},
   "source": [
    "# Neural networks with PyTorch\n",
    "\n",
    "Deep learning networks tend to be massive with dozens or hundreds of layers, that's where the term \"deep\" comes from. You can build one of these deep networks using only weight matrices as we did in the previous notebook, but in general it's very cumbersome and difficult to implement. PyTorch has a nice module `nn` that provides a nice way to efficiently build large neural networks."
   ]
  },
  {
   "cell_type": "code",
   "execution_count": 46,
   "metadata": {
    "collapsed": true
   },
   "outputs": [],
   "source": [
    "# Import necessary packages\n",
    "\n",
    "%matplotlib inline\n",
    "%config InlineBackend.figure_format = 'retina'\n",
    "\n",
    "import numpy as np\n",
    "import torch\n",
    "\n",
    "import helper\n",
    "\n",
    "import matplotlib.pyplot as plt"
   ]
  },
  {
   "cell_type": "markdown",
   "metadata": {},
   "source": [
    "\n",
    "Now we're going to build a larger network that can solve a (formerly) difficult problem, identifying text in an image. Here we'll use the MNIST dataset which consists of greyscale handwritten digits. Each image is 28x28 pixels, you can see a sample below\n",
    "\n",
    "<img src='assets/mnist.png'>\n",
    "\n",
    "Our goal is to build a neural network that can take one of these images and predict the digit in the image.\n",
    "\n",
    "First up, we need to get our dataset. This is provided through the `torchvision` package. The code below will download the MNIST dataset, then create training and test datasets for us. Don't worry too much about the details here, you'll learn more about this later."
   ]
  },
  {
   "cell_type": "code",
   "execution_count": 47,
   "metadata": {
    "collapsed": true
   },
   "outputs": [],
   "source": [
    "### Run this cell\n",
    "\n",
    "from torchvision import datasets, transforms\n",
    "\n",
    "# Define a transform to normalize the data\n",
    "transform = transforms.Compose([transforms.ToTensor(),\n",
    "                              transforms.Normalize((0.5,), (0.5,)),\n",
    "                              ])\n",
    "\n",
    "# Download and load the training data\n",
    "trainset = datasets.MNIST('~/.pytorch/MNIST_data/', download=True, train=True, transform=transform)\n",
    "trainloader = torch.utils.data.DataLoader(trainset, batch_size=64, shuffle=True)"
   ]
  },
  {
   "cell_type": "markdown",
   "metadata": {},
   "source": [
    "We have the training data loaded into `trainloader` and we make that an iterator with `iter(trainloader)`. Later, we'll use this to loop through the dataset for training, like\n",
    "\n",
    "```python\n",
    "for image, label in trainloader:\n",
    "    ## do things with images and labels\n",
    "```\n",
    "\n",
    "You'll notice I created the `trainloader` with a batch size of 64, and `shuffle=True`. The batch size is the number of images we get in one iteration from the data loader and pass through our network, often called a *batch*. And `shuffle=True` tells it to shuffle the dataset every time we start going through the data loader again. But here I'm just grabbing the first batch so we can check out the data. We can see below that `images` is just a tensor with size `(64, 1, 28, 28)`. So, 64 images per batch, 1 color channel, and 28x28 images."
   ]
  },
  {
   "cell_type": "code",
   "execution_count": 48,
   "metadata": {},
   "outputs": [
    {
     "name": "stdout",
     "output_type": "stream",
     "text": [
      "<class 'torch.Tensor'>\n",
      "torch.Size([64, 1, 28, 28])\n",
      "64\n",
      "torch.Size([64])\n"
     ]
    }
   ],
   "source": [
    "dataiter = iter(trainloader)\n",
    "images, labels = dataiter.next()\n",
    "print(type(images))\n",
    "print(images.shape)\n",
    "print(images.shape[0])\n",
    "print(labels.shape)"
   ]
  },
  {
   "cell_type": "markdown",
   "metadata": {},
   "source": [
    "This is what one of the images looks like. "
   ]
  },
  {
   "cell_type": "code",
   "execution_count": 49,
   "metadata": {},
   "outputs": [
    {
     "data": {
      "image/png": "[encoded data removed]",
      "text/plain": [
       "<Figure size 432x288 with 1 Axes>"
      ]
     },
     "metadata": {
      "image/png": {
       "height": 250,
       "width": 253
      }
     },
     "output_type": "display_data"
    }
   ],
   "source": [
    "plt.imshow(images[1].numpy().squeeze(), cmap='Greys_r');"
   ]
  },
  {
   "cell_type": "markdown",
   "metadata": {},
   "source": [
    "First, let's try to build a simple network for this dataset using weight matrices and matrix multiplications. Then, we'll see how to do it using PyTorch's `nn` module which provides a much more convenient and powerful method for defining network architectures.\n",
    "\n",
    "The networks you've seen so far are called *fully-connected* or *dense* networks. Each unit in one layer is connected to each unit in the next layer. In fully-connected networks, the input to each layer must be a one-dimensional vector (which can be stacked into a 2D tensor as a batch of multiple examples). However, our images are 28x28 2D tensors, so we need to convert them into 1D vectors. Thinking about sizes, we need to convert the batch of images with shape `(64, 1, 28, 28)` to a have a shape of `(64, 784)`, 784 is 28 times 28. This is typically called *flattening*, we flattened the 2D images into 1D vectors.\n",
    "\n",
    "Previously you built a network with one output unit. Here we need 10 output units, one for each digit. We want our network to predict the digit shown in an image, so what we'll do is calculate probabilities that the image is of any one digit or class. This ends up being a discrete probability distribution over the classes (digits) that tells us the most likely class for the image. That means we need 10 output units for the 10 classes (digits). We'll see how to convert the network output into a probability distribution next.\n",
    "\n",
    "> **Exercise:** Flatten the batch of images `images`. Then build a multi-layer network with 784 input units, 256 hidden units, and 10 output units using random tensors for the weights and biases. For now, use a sigmoid activation for the hidden layer. Leave the output layer without an activation, we'll add one that gives us a probability distribution next."
   ]
  },
  {
   "cell_type": "code",
   "execution_count": 50,
   "metadata": {},
   "outputs": [
    {
     "name": "stdout",
     "output_type": "stream",
     "text": [
      "tensor([[ -4.6366,  -3.8762,  11.1340,  13.7793,  16.2974,  -6.2825,  14.2760,\n",
      "          -1.9663,  10.9389,  -7.7016],\n",
      "        [ -1.6987,  -2.9393,   5.7590,  18.9466,   8.1565, -12.8485,  15.5588,\n",
      "          15.8860,  -0.4318,  -7.8333],\n",
      "        [ -1.1935,  -2.1203,  10.0759,  15.6849,  15.5187, -17.2279,   6.5609,\n",
      "           3.7200,   4.4297, -15.2617],\n",
      "        [ -2.3034,  -9.8307,   8.8743,   3.8958,   7.2152, -10.4567,   2.3172,\n",
      "          -0.1829,  -2.7054, -13.1947],\n",
      "        [  8.6280,  -4.2545,  14.6925,  13.2697,  18.3168, -13.3754,  13.0161,\n",
      "           6.4603,  14.6902, -10.9456],\n",
      "        [ -7.9908,   3.9951,   5.8024,  17.2052,   5.1065, -18.4189,   4.9998,\n",
      "          -5.0949,   4.4172, -13.2133],\n",
      "        [  3.6929, -10.1717,  11.4530,  10.6156,  12.4470,  -9.4459,   4.8065,\n",
      "           6.4096,  -8.2788,  -3.3929],\n",
      "        [  0.8951,  -0.8705,  20.9970,  11.4504,  12.5528, -12.2522,   9.3371,\n",
      "          11.4523,  14.8146,  -3.5151],\n",
      "        [ -2.1117,  -5.5965,   9.4343,  18.2266,  12.4608, -10.2027,  -3.4575,\n",
      "          -5.2638,   0.1174, -10.8045],\n",
      "        [ -1.6280,  12.3774,   8.6491,  20.1254,  24.8918, -14.2256,  12.7492,\n",
      "           3.6674,  15.6451,   1.5146],\n",
      "        [ -6.5024, -12.6363,  15.8438,  11.3186,  14.8606, -15.0500,  12.2047,\n",
      "           4.1751,   7.9687,  -7.9056],\n",
      "        [-19.0951,   5.2769,  12.0561,  27.5290,  26.5292, -17.6140,  12.2283,\n",
      "           9.0804,   6.3152,  -2.4343],\n",
      "        [ -5.9023,   0.6268,   9.0785,  19.3783,  13.7008, -21.0788,   6.5482,\n",
      "           1.4429,  14.9030, -12.0283],\n",
      "        [-15.4517,  -3.2384,   8.7929,  13.1137,   5.2641,  -7.2833,  18.0628,\n",
      "          13.6551,   8.1539, -17.3465],\n",
      "        [  6.2965, -11.8125,  10.4379,   7.0511,   1.5586, -12.1304,  10.3713,\n",
      "          13.1363,   3.7559,  -5.4563],\n",
      "        [ -1.5059,  -6.5071,   6.4427,  12.7260,   6.1240,  -8.7504,  12.9027,\n",
      "           3.6510,   0.3983, -14.7694],\n",
      "        [ -5.3917, -11.0014,  12.9024,  16.0078,  18.0923,  -6.4297,  11.3313,\n",
      "          -0.8508,   6.7356, -21.5007],\n",
      "        [  2.2587,   1.7739,  16.4945,   9.6547,  17.5661,  -4.7948,   5.1345,\n",
      "          12.0005,  10.6172,  -3.7636],\n",
      "        [  0.4684,  -7.5684,  25.1463,  12.9767,  21.1215,  -8.4301,   8.6726,\n",
      "          14.5632,  12.4581, -13.9117],\n",
      "        [ -1.2857,  -0.0432,  11.9203,  10.5062,  16.8460,  -6.9001,  10.1937,\n",
      "           2.2150,  19.0208,  -5.2189],\n",
      "        [ 12.0763,  -9.1062,  17.7968,  10.2762,  -4.0949, -10.9211,  10.1336,\n",
      "           9.9174,   3.7986, -11.2841],\n",
      "        [ -6.3719,   5.1593,  13.8237,  12.3749,  12.4404, -13.5044,  13.3149,\n",
      "          -4.5548,   7.4887,  -8.2000],\n",
      "        [  1.2008,  -9.8835,  18.9559,   4.5644,   6.8601, -12.8380,  -2.5887,\n",
      "          -1.3086,   6.8005,  -9.2963],\n",
      "        [ -0.7802,   2.2090,  11.9392,  10.3118,  14.7319, -10.3658,   6.6708,\n",
      "           8.6516,  13.7427, -12.6564],\n",
      "        [ -9.7489, -14.7725,   8.1043,   1.9193,  21.3916, -10.2554,   0.8817,\n",
      "           9.5720,   8.8185, -11.6224],\n",
      "        [ -7.9528,   0.2799,   7.6089,  12.2564,  15.8829, -19.7034,  -2.2648,\n",
      "           0.0255,  12.4418, -19.1166],\n",
      "        [  0.6798,  -0.2655,  20.3620,  17.2847,  16.8828,  -7.3269,  11.2692,\n",
      "           8.6997,   9.9554,  -8.5456],\n",
      "        [-18.2294,  -3.9515,  19.7262,  17.8164,  13.8446, -14.8857,  10.5493,\n",
      "          -3.0300,   3.3991,  -1.3368],\n",
      "        [ -6.1955,  -4.4799,  22.2272,  20.0353,  14.1857, -11.8249,   8.7891,\n",
      "          11.1085,   7.4722,  -8.7116],\n",
      "        [ -0.4062,  -6.4133,  11.6410,  12.5786,  15.1927,  -8.7210,   5.0193,\n",
      "          15.7139,   3.2062, -17.9229],\n",
      "        [-12.9377, -12.0541,  14.7411,  24.4045,  23.4992,  -9.9135,   8.0178,\n",
      "           5.5357,   7.6099, -23.8036],\n",
      "        [ -0.6501,   1.6114,   6.5821,  17.3778,  18.7542,  -8.0779,   3.7726,\n",
      "           8.2622,  13.1566, -17.7624],\n",
      "        [ -5.1029,  -6.2635,  11.4835,  21.4050,  14.6759, -15.6343,   6.6129,\n",
      "           5.7193,  -1.2023, -25.2254],\n",
      "        [ -3.9585,  -3.2764,  16.5926,  19.8217,   8.8549,  -7.6238,   9.8650,\n",
      "           8.0195,   7.0324, -16.3754],\n",
      "        [ -3.0930,  -9.5047,  14.2969,  13.6682,  14.7029, -15.4733,  10.1360,\n",
      "           8.5460,   5.5107,  -4.9517],\n",
      "        [-10.4416,  -4.2933,  16.9395,  19.2784,  25.1198,  -8.2541,  15.1540,\n",
      "          15.3526,   7.0348,  -4.8344],\n",
      "        [  0.3128,   5.2402,  16.0262,   4.5181,   9.9252,  -4.6609,   1.4254,\n",
      "          -2.6213,  16.5794,  -7.7337],\n",
      "        [ -3.4075,  -0.9505,  10.0222,  17.1795,  12.6898,  -7.9149,  10.7353,\n",
      "           6.7242,   6.7076,  -7.1386],\n",
      "        [ -5.3874,  -7.5213,  13.3586,  22.4704,  27.8268,  -9.5717,  10.7340,\n",
      "          10.5779,  12.2548, -13.2175],\n",
      "        [ -0.5034,  -0.7478,  19.9508,   2.1832,  12.4209,  -6.2098,   7.7688,\n",
      "           5.7246,  13.6941,  -4.6775],\n",
      "        [ -9.2405, -14.4555,  11.8003,   7.4055,  13.4976, -11.8564,   7.6308,\n",
      "           9.3977,   3.4690,  -5.3433],\n",
      "        [  2.5218,  -7.0149,  13.2891,  13.5988,  10.4117, -11.3312,   7.3406,\n",
      "          10.8440,   4.5301, -12.6106],\n",
      "        [ -8.2954,  -6.5731,  17.1819,   3.1912,  14.5428, -13.9084,  14.0581,\n",
      "          10.0580,  10.5398,  -2.8418],\n",
      "        [ -2.5740,  -1.9830,  15.4334,  14.9584,   4.3283, -16.8922,   5.4814,\n",
      "           5.1877,   4.9847, -12.8359],\n",
      "        [  7.8323,  -0.3965,  11.6541,  17.7025,  12.8530, -13.8483,  14.4355,\n",
      "           3.0614,  11.8451, -13.7078],\n",
      "        [ -4.0713,   6.5218,  11.9110,  23.1364,  14.9983, -11.8483,  10.6492,\n",
      "           7.6952,   8.1953,  -7.9736],\n",
      "        [  3.6853,   3.5869,  15.2186,   4.0023,   6.9944, -12.5262,  -1.0046,\n",
      "           6.8182,  11.4701, -12.7413],\n",
      "        [ -8.0761,  -4.7613,  19.8995,   6.0313,  20.0523, -16.6839,   7.1431,\n",
      "          -5.5352,  13.3380, -17.4765],\n",
      "        [  0.0471,  -3.9105,   9.6439,  19.8045,  19.2158, -18.0012,   8.0148,\n",
      "           2.3668,  11.2991, -10.0346],\n",
      "        [  1.6691,  -7.3624,  12.2352,  18.1310,  17.2696, -13.2929,  13.5398,\n",
      "           0.2238,   4.6453,  -5.3947],\n",
      "        [ -6.6712,   0.0873,  17.3531,  14.8504,  14.5539, -15.6731,   9.6071,\n",
      "          13.5764,   2.3179,  -7.7901],\n",
      "        [  7.7301,   5.1114,  13.3480,   5.0722,  17.2383, -12.8124,  12.8399,\n",
      "           3.7938,  10.2544, -11.2878],\n",
      "        [ -1.8833,  -0.0773,  18.9187,  -2.1623,   9.9488,  -5.9665,   6.5839,\n",
      "           7.8767,  18.9946, -15.1955],\n",
      "        [ -0.6719,  -5.7812,  10.6843,  13.8807,  11.0684, -14.3042,  -1.1848,\n",
      "          -2.0984,   0.0547, -20.5592],\n",
      "        [ -5.7202,  -5.6922,  17.4671,   8.2283,  19.6455, -12.4356,  -6.3543,\n",
      "          11.0362,  15.7031,  -5.4938],\n",
      "        [-15.8402,   0.8300,  11.0969,  20.9696,   7.2065, -19.3807,  13.6573,\n",
      "           4.1053,   8.3053, -16.7599],\n",
      "        [  1.6857,   6.4839,  26.1108,   8.0250,  -0.7400, -13.2439,  13.3627,\n",
      "          25.2254,   5.8153, -13.0205],\n",
      "        [-11.3799, -13.3577,  19.9407,  26.1972,  19.1379, -12.9490,   5.8082,\n",
      "          10.6638,  12.4093,  -9.1876],\n",
      "        [ -2.7132,  -7.4580,  14.3436,   7.0302,  17.8347, -15.7397,   5.6285,\n",
      "           4.1900,  14.1197,  -5.1525],\n",
      "        [  5.6571,  -4.9769,  21.2753,  10.4003,   7.7677, -15.0568,   8.4855,\n",
      "          13.2564,  13.1057,  -8.6039],\n",
      "        [  7.5042,  -1.7391,  15.3289,  -0.4935,  17.2128,  -6.0003,  13.4887,\n",
      "           6.0774,   9.5288,  -7.0475],\n",
      "        [  2.4732, -10.5324,   7.8118,   7.0873,   9.6536,  -8.1784,   9.5125,\n",
      "          -0.7642,  -1.0863, -10.4364],\n",
      "        [  2.5886,  -4.7842,   8.1676,  29.5894,  20.5925, -17.2981,   5.9095,\n",
      "          -6.2813,  -0.6315, -12.8549],\n",
      "        [ -9.8554,  -4.0842,  18.6184,  19.9262,   6.6277, -17.1933,  11.2771,\n",
      "           6.9665,  15.6163,  -9.5516]])\n"
     ]
    }
   ],
   "source": [
    "## Your solution\n",
    "def activation(x):\n",
    "    return (1/(1+torch.exp(-x)))\n",
    "\n",
    "#flatten input\n",
    "inputs= images.view(images.shape[0],-1)\n",
    "\n",
    "\n",
    "# create parameters\n",
    "W1= torch.randn(784,256)\n",
    "b1= torch.randn(256)\n",
    "\n",
    "W2 = torch.randn(256, 10)\n",
    "b2 = torch.randn(10)\n",
    "\n",
    "#calculate input to hidden\n",
    "input_hidden = activation(torch.mm(inputs,W1) + b1)\n",
    "\n",
    "#calculate hidden to output\n",
    "out = torch.mm(input_hidden, W2) + b2 \n",
    "\n",
    "out.shape\n",
    "print(out)\n",
    "#out = # output of your network, should have shape (64,10)"
   ]
  },
  {
   "cell_type": "markdown",
   "metadata": {},
   "source": [
    "###### Now we have 10 outputs for our network. We want to pass in an image to our network and get out a probability distribution over the classes that tells us the likely class(es) the image belongs to. Something that looks like this:\n",
    "<img src='assets/image_distribution.png' width=500px>\n",
    "\n",
    "Here we see that the probability for each class is roughly the same. This is representing an untrained network, it hasn't seen any data yet so it just returns a uniform distribution with equal probabilities for each class.\n",
    "\n",
    "To calculate this probability distribution, we often use the [**softmax** function](https://en.wikipedia.org/wiki/Softmax_function). Mathematically this looks like\n",
    "\n",
    "$$\n",
    "\\Large \\sigma(x_i) = \\cfrac{e^{x_i}}{\\sum_k^K{e^{x_k}}}\n",
    "$$\n",
    "\n",
    "What this does is squish each input $x_i$ between 0 and 1 and normalizes the values to give you a proper probability distribution where the probabilites sum up to one.\n",
    "\n",
    "> **Exercise:** Implement a function `softmax` that performs the softmax calculation and returns probability distributions for each example in the batch. Note that you'll need to pay attention to the shapes when doing this. If you have a tensor `a` with shape `(64, 10)` and a tensor `b` with shape `(64,)`, doing `a/b` will give you an error because PyTorch will try to do the division across the columns (called broadcasting) but you'll get a size mismatch. The way to think about this is for each of the 64 examples, you only want to divide by one value, the sum in the denominator. So you need `b` to have a shape of `(64, 1)`. This way PyTorch will divide the 10 values in each row of `a` by the one value in each row of `b`. Pay attention to how you take the sum as well. You'll need to define the `dim` keyword in `torch.sum`. Setting `dim=0` takes the sum across the rows while `dim=1` takes the sum across the columns."
   ]
  },
  {
   "cell_type": "code",
   "execution_count": 51,
   "metadata": {},
   "outputs": [
    {
     "name": "stdout",
     "output_type": "stream",
     "text": [
      "torch.Size([64, 10])\n",
      "tensor([1.0000, 1.0000, 1.0000, 1.0000, 1.0000, 1.0000, 1.0000, 1.0000, 1.0000,\n",
      "        1.0000, 1.0000, 1.0000, 1.0000, 1.0000, 1.0000, 1.0000, 1.0000, 1.0000,\n",
      "        1.0000, 1.0000, 1.0000, 1.0000, 1.0000, 1.0000, 1.0000, 1.0000, 1.0000,\n",
      "        1.0000, 1.0000, 1.0000, 1.0000, 1.0000, 1.0000, 1.0000, 1.0000, 1.0000,\n",
      "        1.0000, 1.0000, 1.0000, 1.0000, 1.0000, 1.0000, 1.0000, 1.0000, 1.0000,\n",
      "        1.0000, 1.0000, 1.0000, 1.0000, 1.0000, 1.0000, 1.0000, 1.0000, 1.0000,\n",
      "        1.0000, 1.0000, 1.0000, 1.0000, 1.0000, 1.0000, 1.0000, 1.0000, 1.0000,\n",
      "        1.0000])\n"
     ]
    }
   ],
   "source": [
    "def softmax(x):\n",
    "    return (torch.exp(x)/torch.sum(torch.exp(x), dim=1).view(-1,1))\n",
    "    ## TODO: Implement the softmax function here\n",
    "\n",
    "\n",
    "# Here, out should be the output of the network in the previous excercise with shape (64,10)\n",
    "probabilities = softmax(out)\n",
    "\n",
    "# Does it have the right shape? Should be (64, 10)\n",
    "print(probabilities.shape)\n",
    "# Does it sum to 1?\n",
    "print(probabilities.sum(dim=1))"
   ]
  },
  {
   "cell_type": "markdown",
   "metadata": {},
   "source": [
    "## Building networks with PyTorch\n",
    "\n",
    "PyTorch provides a module `nn` that makes building networks much simpler. Here I'll show you how to build the same one as above with 784 inputs, 256 hidden units, 10 output units and a softmax output."
   ]
  },
  {
   "cell_type": "code",
   "execution_count": 52,
   "metadata": {
    "collapsed": true
   },
   "outputs": [],
   "source": [
    "from torch import nn"
   ]
  },
  {
   "cell_type": "code",
   "execution_count": 53,
   "metadata": {
    "collapsed": true
   },
   "outputs": [],
   "source": [
    "class Network(nn.Module):\n",
    "    def __init__(self):\n",
    "        super().__init__()\n",
    "        \n",
    "        # Inputs to hidden layer linear transformation\n",
    "        self.hidden = nn.Linear(784, 256)\n",
    "        # Output layer, 10 units - one for each digit\n",
    "        self.output = nn.Linear(256, 10)\n",
    "        \n",
    "        # Define sigmoid activation and softmax output \n",
    "        self.sigmoid = nn.Sigmoid()\n",
    "        self.softmax = nn.Softmax(dim=1)\n",
    "        \n",
    "    def forward(self, x):\n",
    "        # Pass the input tensor through each of our operations\n",
    "        x = self.hidden(x)\n",
    "        x = self.sigmoid(x)\n",
    "        x = self.output(x)\n",
    "        x = self.softmax(x)\n",
    "        \n",
    "        return x"
   ]
  },
  {
   "cell_type": "markdown",
   "metadata": {},
   "source": [
    "Let's go through this bit by bit.\n",
    "\n",
    "```python\n",
    "class Network(nn.Module):\n",
    "```\n",
    "\n",
    "Here we're inheriting from `nn.Module`. Combined with `super().__init__()` this creates a class that tracks the architecture and provides a lot of useful methods and attributes. It is mandatory to inherit from `nn.Module` when you're creating a class for your network. The name of the class itself can be anything.\n",
    "\n",
    "```python\n",
    "self.hidden = nn.Linear(784, 256)\n",
    "```\n",
    "\n",
    "This line creates a module for a linear transformation, $x\\mathbf{W} + b$, with 784 inputs and 256 outputs and assigns it to `self.hidden`. The module automatically creates the weight and bias tensors which we'll use in the `forward` method. You can access the weight and bias tensors once the network (`net`) is created with `net.hidden.weight` and `net.hidden.bias`.\n",
    "\n",
    "```python\n",
    "self.output = nn.Linear(256, 10)\n",
    "```\n",
    "\n",
    "Similarly, this creates another linear transformation with 256 inputs and 10 outputs.\n",
    "\n",
    "```python\n",
    "self.sigmoid = nn.Sigmoid()\n",
    "self.softmax = nn.Softmax(dim=1)\n",
    "```\n",
    "\n",
    "Here I defined operations for the sigmoid activation and softmax output. Setting `dim=1` in `nn.Softmax(dim=1)` calculates softmax across the columns.\n",
    "\n",
    "```python\n",
    "def forward(self, x):\n",
    "```\n",
    "\n",
    "PyTorch networks created with `nn.Module` must have a `forward` method defined. It takes in a tensor `x` and passes it through the operations you defined in the `__init__` method.\n",
    "\n",
    "```python\n",
    "x = self.hidden(x)\n",
    "x = self.sigmoid(x)\n",
    "x = self.output(x)\n",
    "x = self.softmax(x)\n",
    "```\n",
    "\n",
    "Here the input tensor `x` is passed through each operation a reassigned to `x`. We can see that the input tensor goes through the hidden layer, then a sigmoid function, then the output layer, and finally the softmax function. It doesn't matter what you name the variables here, as long as the inputs and outputs of the operations match the network architecture you want to build. The order in which you define things in the `__init__` method doesn't matter, but you'll need to sequence the operations correctly in the `forward` method.\n",
    "\n",
    "Now we can create a `Network` object."
   ]
  },
  {
   "cell_type": "code",
   "execution_count": 54,
   "metadata": {},
   "outputs": [
    {
     "data": {
      "text/plain": [
       "Network(\n",
       "  (hidden): Linear(in_features=784, out_features=256, bias=True)\n",
       "  (output): Linear(in_features=256, out_features=10, bias=True)\n",
       "  (sigmoid): Sigmoid()\n",
       "  (softmax): Softmax()\n",
       ")"
      ]
     },
     "execution_count": 54,
     "metadata": {},
     "output_type": "execute_result"
    }
   ],
   "source": [
    "# Create the network and look at it's text representation\n",
    "model = Network()\n",
    "model"
   ]
  },
  {
   "cell_type": "markdown",
   "metadata": {},
   "source": [
    "You can define the network somewhat more concisely and clearly using the `torch.nn.functional` module. This is the most common way you'll see networks defined as many operations are simple element-wise functions. We normally import this module as `F`, `import torch.nn.functional as F`."
   ]
  },
  {
   "cell_type": "code",
   "execution_count": 55,
   "metadata": {
    "collapsed": true
   },
   "outputs": [],
   "source": [
    "import torch.nn.functional as F\n",
    "\n",
    "class Network(nn.Module):\n",
    "    def __init__(self):\n",
    "        super().__init__()\n",
    "        # Inputs to hidden layer linear transformation\n",
    "        self.hidden = nn.Linear(784, 256)\n",
    "        # Output layer, 10 units - one for each digit\n",
    "        self.output = nn.Linear(256, 10)\n",
    "        \n",
    "    def forward(self, x):\n",
    "        # Hidden layer with sigmoid activation\n",
    "        x = F.sigmoid(self.hidden(x))\n",
    "        # Output layer with softmax activation\n",
    "        x = F.softmax(self.output(x), dim=1)\n",
    "        \n",
    "        return x"
   ]
  },
  {
   "cell_type": "markdown",
   "metadata": {},
   "source": [
    "### Activation functions\n",
    "\n",
    "So far we've only been looking at the softmax activation, but in general any function can be used as an activation function. The only requirement is that for a network to approximate a non-linear function, the activation functions must be non-linear. Here are a few more examples of common activation functions: Tanh (hyperbolic tangent), and ReLU (rectified linear unit).\n",
    "\n",
    "<img src=\"assets/activation.png\" width=700px>\n",
    "\n",
    "In practice, the ReLU function is used almost exclusively as the activation function for hidden layers."
   ]
  },
  {
   "cell_type": "markdown",
   "metadata": {},
   "source": [
    "### Your Turn to Build a Network\n",
    "\n",
    "<img src=\"assets/mlp_mnist.png\" width=600px>\n",
    "\n",
    "> **Exercise:** Create a network with 784 input units, a hidden layer with 128 units and a ReLU activation, then a hidden layer with 64 units and a ReLU activation, and finally an output layer with a softmax activation as shown above. You can use a ReLU activation with the `nn.ReLU` module or `F.relu` function."
   ]
  },
  {
   "cell_type": "code",
   "execution_count": 61,
   "metadata": {
    "scrolled": true
   },
   "outputs": [],
   "source": [
    "\n",
    "## Your solution hereclass Network(nn.Module):\n",
    "class Network(nn.Module):\n",
    "    def __init__(self):\n",
    "        super().__init__()\n",
    "        # Inputs to hidden layer 1 linear transformation\n",
    "        self.fc1 = nn.Linear(784, 128)\n",
    "        # Inputs to hidden layer 2 linear transformation\n",
    "        self.fc2 = nn.Linear(128, 64)\n",
    "        # Output layer, 10 units - one for each digit\n",
    "        self.fc3 = nn.Linear(64, 10)\n",
    "    \n",
    "    \n",
    "        # Define sigmoid activation and softmax output \n",
    "        self.Relu = nn.ReLU()\n",
    "        self.softmax = nn.Softmax(dim=1)\n",
    "        #self.fc1 = nn.Linear(16 * 5 * 5, 120)\n",
    "        #self.fc2 = nn.Linear(120, 84)\n",
    "        #self.fc3 = nn.Linear(84, 10)\n",
    "    \n",
    "    def forward(self, x):\n",
    "        # Pass the input tensor through each of our operations\n",
    "        x = self.fc1(x)\n",
    "        x = self.Relu(x)\n",
    "        x = self.fc2(x)\n",
    "        x = self.Relu(x)\n",
    "        x = self.fc3(x)\n",
    "        x = self.softmax(x)\n",
    "        \n",
    "        return x"
   ]
  },
  {
   "cell_type": "markdown",
   "metadata": {},
   "source": [
    "### Initializing weights and biases\n",
    "\n",
    "The weights and such are automatically initialized for you, but it's possible to customize how they are initialized. The weights and biases are tensors attached to the layer you defined, you can get them with `model.fc1.weight` for instance."
   ]
  },
  {
   "cell_type": "code",
   "execution_count": 62,
   "metadata": {},
   "outputs": [
    {
     "name": "stdout",
     "output_type": "stream",
     "text": [
      "Parameter containing:\n",
      "tensor([[ 0.0160,  0.0224, -0.0305,  ..., -0.0067,  0.0267, -0.0082],\n",
      "        [ 0.0116, -0.0340,  0.0195,  ...,  0.0110,  0.0018, -0.0183],\n",
      "        [ 0.0215,  0.0145,  0.0103,  ..., -0.0269,  0.0080, -0.0124],\n",
      "        ...,\n",
      "        [ 0.0076,  0.0003, -0.0262,  ...,  0.0332,  0.0210,  0.0252],\n",
      "        [ 0.0219, -0.0265,  0.0259,  ...,  0.0282, -0.0248, -0.0163],\n",
      "        [ 0.0329,  0.0003,  0.0255,  ...,  0.0201, -0.0195,  0.0350]],\n",
      "       requires_grad=True)\n",
      "Parameter containing:\n",
      "tensor([ 0.0233, -0.0336, -0.0221, -0.0245, -0.0153, -0.0164,  0.0172, -0.0299,\n",
      "         0.0094, -0.0120,  0.0039, -0.0041, -0.0256,  0.0285, -0.0163, -0.0169,\n",
      "         0.0033, -0.0046, -0.0044, -0.0004,  0.0240,  0.0025, -0.0309, -0.0045,\n",
      "        -0.0048, -0.0172,  0.0217,  0.0268,  0.0108,  0.0325, -0.0226,  0.0150,\n",
      "        -0.0011, -0.0130, -0.0196, -0.0102, -0.0121, -0.0066,  0.0074,  0.0107,\n",
      "        -0.0153,  0.0137,  0.0351, -0.0162,  0.0172, -0.0291,  0.0284,  0.0016,\n",
      "         0.0068, -0.0041,  0.0054,  0.0108,  0.0265,  0.0140, -0.0178, -0.0203,\n",
      "         0.0243,  0.0148,  0.0237,  0.0179, -0.0162,  0.0110, -0.0040, -0.0071,\n",
      "        -0.0171, -0.0315,  0.0129, -0.0322,  0.0281, -0.0050, -0.0242,  0.0026,\n",
      "        -0.0067, -0.0115,  0.0344,  0.0119, -0.0125,  0.0111, -0.0252, -0.0161,\n",
      "        -0.0170,  0.0199,  0.0322,  0.0103,  0.0082, -0.0196,  0.0028, -0.0264,\n",
      "         0.0347, -0.0325, -0.0121,  0.0230, -0.0147, -0.0281, -0.0245, -0.0085,\n",
      "         0.0280,  0.0057,  0.0026,  0.0194, -0.0313, -0.0127,  0.0058, -0.0255,\n",
      "         0.0013,  0.0270,  0.0050, -0.0119, -0.0355,  0.0003,  0.0255, -0.0137,\n",
      "        -0.0101,  0.0057,  0.0314,  0.0101, -0.0354, -0.0109, -0.0043,  0.0187,\n",
      "        -0.0067, -0.0133,  0.0326, -0.0075, -0.0200,  0.0292,  0.0047,  0.0016],\n",
      "       requires_grad=True)\n"
     ]
    }
   ],
   "source": [
    "model = Network()\n",
    "print(model.fc1.weight)\n",
    "print(model.fc1.bias)"
   ]
  },
  {
   "cell_type": "markdown",
   "metadata": {},
   "source": [
    "For custom initialization, we want to modify these tensors in place. These are actually autograd *Variables*, so we need to get back the actual tensors with `model.fc1.weight.data`. Once we have the tensors, we can fill them with zeros (for biases) or random normal values."
   ]
  },
  {
   "cell_type": "code",
   "execution_count": 63,
   "metadata": {},
   "outputs": [
    {
     "data": {
      "text/plain": [
       "tensor([0., 0., 0., 0., 0., 0., 0., 0., 0., 0., 0., 0., 0., 0., 0., 0., 0., 0.,\n",
       "        0., 0., 0., 0., 0., 0., 0., 0., 0., 0., 0., 0., 0., 0., 0., 0., 0., 0.,\n",
       "        0., 0., 0., 0., 0., 0., 0., 0., 0., 0., 0., 0., 0., 0., 0., 0., 0., 0.,\n",
       "        0., 0., 0., 0., 0., 0., 0., 0., 0., 0., 0., 0., 0., 0., 0., 0., 0., 0.,\n",
       "        0., 0., 0., 0., 0., 0., 0., 0., 0., 0., 0., 0., 0., 0., 0., 0., 0., 0.,\n",
       "        0., 0., 0., 0., 0., 0., 0., 0., 0., 0., 0., 0., 0., 0., 0., 0., 0., 0.,\n",
       "        0., 0., 0., 0., 0., 0., 0., 0., 0., 0., 0., 0., 0., 0., 0., 0., 0., 0.,\n",
       "        0., 0.])"
      ]
     },
     "execution_count": 63,
     "metadata": {},
     "output_type": "execute_result"
    }
   ],
   "source": [
    "# Set biases to all zeros\n",
    "model.fc1.bias.data.fill_(0)"
   ]
  },
  {
   "cell_type": "code",
   "execution_count": 64,
   "metadata": {},
   "outputs": [
    {
     "data": {
      "text/plain": [
       "tensor([[-0.0006, -0.0029, -0.0059,  ...,  0.0154, -0.0013, -0.0006],\n",
       "        [ 0.0020,  0.0030, -0.0053,  ...,  0.0041,  0.0052, -0.0119],\n",
       "        [-0.0072,  0.0012,  0.0030,  ...,  0.0162,  0.0082,  0.0172],\n",
       "        ...,\n",
       "        [-0.0113, -0.0179,  0.0209,  ...,  0.0023, -0.0100,  0.0088],\n",
       "        [-0.0023,  0.0115,  0.0138,  ..., -0.0097,  0.0193, -0.0172],\n",
       "        [ 0.0031,  0.0043,  0.0091,  ..., -0.0042,  0.0064, -0.0004]])"
      ]
     },
     "execution_count": 64,
     "metadata": {},
     "output_type": "execute_result"
    }
   ],
   "source": [
    "# sample from random normal with standard dev = 0.01\n",
    "model.fc1.weight.data.normal_(std=0.01)"
   ]
  },
  {
   "cell_type": "markdown",
   "metadata": {},
   "source": [
    "### Forward pass\n",
    "\n",
    "Now that we have a network, let's see what happens when we pass in an image."
   ]
  },
  {
   "cell_type": "code",
   "execution_count": 66,
   "metadata": {},
   "outputs": [
    {
     "data": {
      "image/png": "[encoded data removed]",
      "text/plain": [
       "<Figure size 432x648 with 2 Axes>"
      ]
     },
     "metadata": {
      "image/png": {
       "height": 224,
       "width": 423
      }
     },
     "output_type": "display_data"
    }
   ],
   "source": [
    "# Grab some data \n",
    "dataiter = iter(trainloader)\n",
    "images, labels = dataiter.next()\n",
    "\n",
    "# Resize images into a 1D vector, new shape is (batch size, color channels, image pixels) \n",
    "images.resize_(64, 1, 784)\n",
    "# or images.resize_(images.shape[0], 1, 784) to automatically get batch size\n",
    "\n",
    "# Forward pass through the network\n",
    "img_idx = 0\n",
    "ps = model.forward(images[img_idx,:])\n",
    "\n",
    "img = images[img_idx]\n",
    "helper.view_classify(img.view(1, 28, 28), ps)"
   ]
  },
  {
   "cell_type": "markdown",
   "metadata": {},
   "source": [
    "As you can see above, our network has basically no idea what this digit is. It's because we haven't trained it yet, all the weights are random!\n",
    "\n",
    "### Using `nn.Sequential`\n",
    "\n",
    "PyTorch provides a convenient way to build networks like this where a tensor is passed sequentially through operations, `nn.Sequential` ([documentation](https://pytorch.org/docs/master/nn.html#torch.nn.Sequential)). Using this to build the equivalent network:"
   ]
  },
  {
   "cell_type": "code",
   "execution_count": 67,
   "metadata": {},
   "outputs": [
    {
     "name": "stdout",
     "output_type": "stream",
     "text": [
      "Sequential(\n",
      "  (0): Linear(in_features=784, out_features=128, bias=True)\n",
      "  (1): ReLU()\n",
      "  (2): Linear(in_features=128, out_features=64, bias=True)\n",
      "  (3): ReLU()\n",
      "  (4): Linear(in_features=64, out_features=10, bias=True)\n",
      "  (5): Softmax()\n",
      ")\n"
     ]
    },
    {
     "data": {
      "image/png": "[encoded data removed]",
      "text/plain": [
       "<Figure size 432x648 with 2 Axes>"
      ]
     },
     "metadata": {
      "image/png": {
       "height": 224,
       "width": 423
      }
     },
     "output_type": "display_data"
    }
   ],
   "source": [
    "# Hyperparameters for our network\n",
    "input_size = 784\n",
    "hidden_sizes = [128, 64]\n",
    "output_size = 10\n",
    "\n",
    "# Build a feed-forward network\n",
    "model = nn.Sequential(nn.Linear(input_size, hidden_sizes[0]),\n",
    "                      nn.ReLU(),\n",
    "                      nn.Linear(hidden_sizes[0], hidden_sizes[1]),\n",
    "                      nn.ReLU(),\n",
    "                      nn.Linear(hidden_sizes[1], output_size),\n",
    "                      nn.Softmax(dim=1))\n",
    "print(model)\n",
    "\n",
    "# Forward pass through the network and display output\n",
    "images, labels = next(iter(trainloader))\n",
    "images.resize_(images.shape[0], 1, 784)\n",
    "ps = model.forward(images[0,:])\n",
    "helper.view_classify(images[0].view(1, 28, 28), ps)"
   ]
  },
  {
   "cell_type": "markdown",
   "metadata": {},
   "source": [
    "Here our model is the same as before: 784 input units, a hidden layer with 128 units, ReLU activation, 64 unit hidden layer, another ReLU, then the output layer with 10 units, and the softmax output.\n",
    "\n",
    "The operations are availble by passing in the appropriate index. For example, if you want to get first Linear operation and look at the weights, you'd use `model[0]`."
   ]
  },
  {
   "cell_type": "code",
   "execution_count": 68,
   "metadata": {},
   "outputs": [
    {
     "name": "stdout",
     "output_type": "stream",
     "text": [
      "Linear(in_features=784, out_features=128, bias=True)\n"
     ]
    },
    {
     "data": {
      "text/plain": [
       "Parameter containing:\n",
       "tensor([[ 0.0063,  0.0062,  0.0080,  ...,  0.0302,  0.0355, -0.0201],\n",
       "        [ 0.0088, -0.0145,  0.0010,  ...,  0.0246,  0.0344,  0.0150],\n",
       "        [-0.0265, -0.0033, -0.0199,  ...,  0.0241, -0.0340,  0.0136],\n",
       "        ...,\n",
       "        [ 0.0071,  0.0299, -0.0164,  ..., -0.0059, -0.0070, -0.0023],\n",
       "        [ 0.0313, -0.0183,  0.0119,  ...,  0.0078,  0.0159, -0.0324],\n",
       "        [-0.0107, -0.0229, -0.0069,  ...,  0.0086,  0.0266,  0.0128]],\n",
       "       requires_grad=True)"
      ]
     },
     "execution_count": 68,
     "metadata": {},
     "output_type": "execute_result"
    }
   ],
   "source": [
    "print(model[0])\n",
    "model[0].weight"
   ]
  },
  {
   "cell_type": "markdown",
   "metadata": {},
   "source": [
    "You can also pass in an `OrderedDict` to name the individual layers and operations, instead of using incremental integers. Note that dictionary keys must be unique, so _each operation must have a different name_."
   ]
  },
  {
   "cell_type": "code",
   "execution_count": 69,
   "metadata": {},
   "outputs": [
    {
     "data": {
      "text/plain": [
       "Sequential(\n",
       "  (fc1): Linear(in_features=784, out_features=128, bias=True)\n",
       "  (relu1): ReLU()\n",
       "  (fc2): Linear(in_features=128, out_features=64, bias=True)\n",
       "  (relu2): ReLU()\n",
       "  (output): Linear(in_features=64, out_features=10, bias=True)\n",
       "  (softmax): Softmax()\n",
       ")"
      ]
     },
     "execution_count": 69,
     "metadata": {},
     "output_type": "execute_result"
    }
   ],
   "source": [
    "from collections import OrderedDict\n",
    "model = nn.Sequential(OrderedDict([\n",
    "                      ('fc1', nn.Linear(input_size, hidden_sizes[0])),\n",
    "                      ('relu1', nn.ReLU()),\n",
    "                      ('fc2', nn.Linear(hidden_sizes[0], hidden_sizes[1])),\n",
    "                      ('relu2', nn.ReLU()),\n",
    "                      ('output', nn.Linear(hidden_sizes[1], output_size)),\n",
    "                      ('softmax', nn.Softmax(dim=1))]))\n",
    "model"
   ]
  },
  {
   "cell_type": "markdown",
   "metadata": {},
   "source": [
    "Now you can access layers either by integer or the name"
   ]
  },
  {
   "cell_type": "code",
   "execution_count": 70,
   "metadata": {},
   "outputs": [
    {
     "name": "stdout",
     "output_type": "stream",
     "text": [
      "Linear(in_features=784, out_features=128, bias=True)\n",
      "Linear(in_features=784, out_features=128, bias=True)\n"
     ]
    }
   ],
   "source": [
    "print(model[0])\n",
    "print(model.fc1)"
   ]
  },
  {
   "cell_type": "markdown",
   "metadata": {},
   "source": [
    "In the next notebook, we'll see how we can train a neural network to accuractly predict the numbers appearing in the MNIST images."
   ]
  },
  {
   "cell_type": "code",
   "execution_count": null,
   "metadata": {
    "collapsed": true
   },
   "outputs": [],
   "source": []
  }
 ],
 "metadata": {
  "kernelspec": {
   "display_name": "Python [default]",
   "language": "python",
   "name": "python3"
  },
  "language_info": {
   "codemirror_mode": {
    "name": "ipython",
    "version": 3
   },
   "file_extension": ".py",
   "mimetype": "text/x-python",
   "name": "python",
   "nbconvert_exporter": "python",
   "pygments_lexer": "ipython3",
   "version": "3.5.4"
  }
 },
 "nbformat": 4,
 "nbformat_minor": 2
}
